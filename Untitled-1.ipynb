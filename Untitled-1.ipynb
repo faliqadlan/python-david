{
 "cells": [
  {
   "cell_type": "markdown",
   "metadata": {},
   "source": [
    "# Import Required Libraries\n",
    "Import necessary libraries such as pandas, numpy, scikit-learn, and matplotlib."
   ]
  },
  {
   "cell_type": "code",
   "execution_count": 2,
   "metadata": {},
   "outputs": [
    {
     "name": "stdout",
     "output_type": "stream",
     "text": [
      "Collecting pandas\n",
      "  Using cached pandas-2.2.3-cp311-cp311-win_amd64.whl.metadata (19 kB)\n",
      "Collecting numpy\n",
      "  Downloading numpy-2.1.3-cp311-cp311-win_amd64.whl.metadata (60 kB)\n",
      "Collecting scikit-learn\n",
      "  Using cached scikit_learn-1.5.2-cp311-cp311-win_amd64.whl.metadata (13 kB)\n",
      "Collecting matplotlib\n",
      "  Using cached matplotlib-3.9.2-cp311-cp311-win_amd64.whl.metadata (11 kB)\n",
      "Requirement already satisfied: python-dateutil>=2.8.2 in .\\.conda\\lib\\site-packages (from pandas) (2.9.0)\n",
      "Collecting pytz>=2020.1 (from pandas)\n",
      "  Using cached pytz-2024.2-py2.py3-none-any.whl.metadata (22 kB)\n",
      "Collecting tzdata>=2022.7 (from pandas)\n",
      "  Using cached tzdata-2024.2-py2.py3-none-any.whl.metadata (1.4 kB)\n",
      "Collecting scipy>=1.6.0 (from scikit-learn)\n",
      "  Using cached scipy-1.14.1-cp311-cp311-win_amd64.whl.metadata (60 kB)\n",
      "Collecting joblib>=1.2.0 (from scikit-learn)\n",
      "  Using cached joblib-1.4.2-py3-none-any.whl.metadata (5.4 kB)\n",
      "Collecting threadpoolctl>=3.1.0 (from scikit-learn)\n",
      "  Using cached threadpoolctl-3.5.0-py3-none-any.whl.metadata (13 kB)\n",
      "Collecting contourpy>=1.0.1 (from matplotlib)\n",
      "  Using cached contourpy-1.3.0-cp311-cp311-win_amd64.whl.metadata (5.4 kB)\n",
      "Collecting cycler>=0.10 (from matplotlib)\n",
      "  Using cached cycler-0.12.1-py3-none-any.whl.metadata (3.8 kB)\n",
      "Collecting fonttools>=4.22.0 (from matplotlib)\n",
      "  Using cached fonttools-4.54.1-cp311-cp311-win_amd64.whl.metadata (167 kB)\n",
      "Collecting kiwisolver>=1.3.1 (from matplotlib)\n",
      "  Using cached kiwisolver-1.4.7-cp311-cp311-win_amd64.whl.metadata (6.4 kB)\n",
      "Requirement already satisfied: packaging>=20.0 in .\\.conda\\lib\\site-packages (from matplotlib) (24.1)\n",
      "Collecting pillow>=8 (from matplotlib)\n",
      "  Using cached pillow-11.0.0-cp311-cp311-win_amd64.whl.metadata (9.3 kB)\n",
      "Collecting pyparsing>=2.3.1 (from matplotlib)\n",
      "  Using cached pyparsing-3.2.0-py3-none-any.whl.metadata (5.0 kB)\n",
      "Requirement already satisfied: six>=1.5 in .\\.conda\\lib\\site-packages (from python-dateutil>=2.8.2->pandas) (1.16.0)\n",
      "Using cached pandas-2.2.3-cp311-cp311-win_amd64.whl (11.6 MB)\n",
      "Downloading numpy-2.1.3-cp311-cp311-win_amd64.whl (12.9 MB)\n",
      "   ---------------------------------------- 0.0/12.9 MB ? eta -:--:--\n",
      "    --------------------------------------- 0.3/12.9 MB ? eta -:--:--\n",
      "    --------------------------------------- 0.3/12.9 MB ? eta -:--:--\n",
      "   -- ------------------------------------- 0.8/12.9 MB 1.2 MB/s eta 0:00:10\n",
      "   --- ------------------------------------ 1.0/12.9 MB 1.3 MB/s eta 0:00:10\n",
      "   --- ------------------------------------ 1.0/12.9 MB 1.3 MB/s eta 0:00:10\n",
      "   ---- ----------------------------------- 1.3/12.9 MB 1.1 MB/s eta 0:00:11\n",
      "   ----- ---------------------------------- 1.8/12.9 MB 1.3 MB/s eta 0:00:09\n",
      "   ----- ---------------------------------- 1.8/12.9 MB 1.3 MB/s eta 0:00:09\n",
      "   ----- ---------------------------------- 1.8/12.9 MB 1.3 MB/s eta 0:00:09\n",
      "   ------ --------------------------------- 2.1/12.9 MB 995.1 kB/s eta 0:00:11\n",
      "   -------- ------------------------------- 2.6/12.9 MB 1.1 MB/s eta 0:00:10\n",
      "   -------- ------------------------------- 2.6/12.9 MB 1.1 MB/s eta 0:00:10\n",
      "   -------- ------------------------------- 2.9/12.9 MB 1.1 MB/s eta 0:00:10\n",
      "   -------- ------------------------------- 2.9/12.9 MB 1.1 MB/s eta 0:00:10\n",
      "   --------- ------------------------------ 3.1/12.9 MB 1.0 MB/s eta 0:00:10\n",
      "   ---------- ----------------------------- 3.4/12.9 MB 1.0 MB/s eta 0:00:10\n",
      "   ----------- ---------------------------- 3.7/12.9 MB 1.1 MB/s eta 0:00:09\n",
      "   ------------ --------------------------- 3.9/12.9 MB 1.0 MB/s eta 0:00:09\n",
      "   ------------ --------------------------- 3.9/12.9 MB 1.0 MB/s eta 0:00:09\n",
      "   ------------ --------------------------- 3.9/12.9 MB 1.0 MB/s eta 0:00:09\n",
      "   ------------ --------------------------- 3.9/12.9 MB 1.0 MB/s eta 0:00:09\n",
      "   ------------- -------------------------- 4.5/12.9 MB 962.0 kB/s eta 0:00:09\n",
      "   -------------- ------------------------- 4.7/12.9 MB 983.5 kB/s eta 0:00:09\n",
      "   -------------- ------------------------- 4.7/12.9 MB 983.5 kB/s eta 0:00:09\n",
      "   ---------------- ----------------------- 5.2/12.9 MB 983.8 kB/s eta 0:00:08\n",
      "   ----------------- ---------------------- 5.5/12.9 MB 1.0 MB/s eta 0:00:08\n",
      "   ----------------- ---------------------- 5.8/12.9 MB 1.0 MB/s eta 0:00:08\n",
      "   ------------------- -------------------- 6.3/12.9 MB 1.1 MB/s eta 0:00:07\n",
      "   -------------------- ------------------- 6.6/12.9 MB 1.1 MB/s eta 0:00:06\n",
      "   --------------------- ------------------ 6.8/12.9 MB 1.1 MB/s eta 0:00:06\n",
      "   ---------------------- ----------------- 7.3/12.9 MB 1.1 MB/s eta 0:00:05\n",
      "   ----------------------- ---------------- 7.6/12.9 MB 1.1 MB/s eta 0:00:05\n",
      "   ------------------------ --------------- 7.9/12.9 MB 1.1 MB/s eta 0:00:05\n",
      "   ------------------------- -------------- 8.1/12.9 MB 1.1 MB/s eta 0:00:05\n",
      "   -------------------------- ------------- 8.7/12.9 MB 1.2 MB/s eta 0:00:04\n",
      "   -------------------------- ------------- 8.7/12.9 MB 1.2 MB/s eta 0:00:04\n",
      "   --------------------------- ------------ 8.9/12.9 MB 1.2 MB/s eta 0:00:04\n",
      "   --------------------------- ------------ 8.9/12.9 MB 1.2 MB/s eta 0:00:04\n",
      "   ---------------------------- ----------- 9.2/12.9 MB 1.1 MB/s eta 0:00:04\n",
      "   ---------------------------- ----------- 9.2/12.9 MB 1.1 MB/s eta 0:00:04\n",
      "   ---------------------------- ----------- 9.2/12.9 MB 1.1 MB/s eta 0:00:04\n",
      "   ----------------------------- ---------- 9.4/12.9 MB 1.1 MB/s eta 0:00:04\n",
      "   ----------------------------- ---------- 9.4/12.9 MB 1.1 MB/s eta 0:00:04\n",
      "   ----------------------------- ---------- 9.4/12.9 MB 1.1 MB/s eta 0:00:04\n",
      "   ----------------------------- ---------- 9.4/12.9 MB 1.1 MB/s eta 0:00:04\n",
      "   ------------------------------ --------- 10.0/12.9 MB 1.0 MB/s eta 0:00:03\n",
      "   ------------------------------ --------- 10.0/12.9 MB 1.0 MB/s eta 0:00:03\n",
      "   -------------------------------- ------- 10.5/12.9 MB 1.0 MB/s eta 0:00:03\n",
      "   --------------------------------- ------ 10.7/12.9 MB 1.0 MB/s eta 0:00:03\n",
      "   --------------------------------- ------ 10.7/12.9 MB 1.0 MB/s eta 0:00:03\n",
      "   ---------------------------------- ----- 11.0/12.9 MB 1.0 MB/s eta 0:00:02\n",
      "   ---------------------------------- ----- 11.0/12.9 MB 1.0 MB/s eta 0:00:02\n",
      "   ---------------------------------- ----- 11.0/12.9 MB 1.0 MB/s eta 0:00:02\n",
      "   ---------------------------------- ----- 11.0/12.9 MB 1.0 MB/s eta 0:00:02\n",
      "   ---------------------------------- ----- 11.0/12.9 MB 1.0 MB/s eta 0:00:02\n",
      "   ---------------------------------- ----- 11.0/12.9 MB 1.0 MB/s eta 0:00:02\n",
      "   ----------------------------------- ---- 11.3/12.9 MB 925.9 kB/s eta 0:00:02\n",
      "   ----------------------------------- ---- 11.5/12.9 MB 946.8 kB/s eta 0:00:02\n",
      "   ----------------------------------- ---- 11.5/12.9 MB 946.8 kB/s eta 0:00:02\n",
      "   ------------------------------------ --- 11.8/12.9 MB 935.6 kB/s eta 0:00:02\n",
      "   ------------------------------------ --- 11.8/12.9 MB 935.6 kB/s eta 0:00:02\n",
      "   -------------------------------------- - 12.3/12.9 MB 933.2 kB/s eta 0:00:01\n",
      "   -------------------------------------- - 12.3/12.9 MB 933.2 kB/s eta 0:00:01\n",
      "   ---------------------------------------  12.8/12.9 MB 943.0 kB/s eta 0:00:01\n",
      "   ---------------------------------------- 12.9/12.9 MB 941.5 kB/s eta 0:00:00\n",
      "Using cached scikit_learn-1.5.2-cp311-cp311-win_amd64.whl (11.0 MB)\n",
      "Using cached matplotlib-3.9.2-cp311-cp311-win_amd64.whl (7.8 MB)\n",
      "Using cached contourpy-1.3.0-cp311-cp311-win_amd64.whl (217 kB)\n",
      "Using cached cycler-0.12.1-py3-none-any.whl (8.3 kB)\n",
      "Using cached fonttools-4.54.1-cp311-cp311-win_amd64.whl (2.2 MB)\n",
      "Using cached joblib-1.4.2-py3-none-any.whl (301 kB)\n",
      "Using cached kiwisolver-1.4.7-cp311-cp311-win_amd64.whl (56 kB)\n",
      "Using cached pillow-11.0.0-cp311-cp311-win_amd64.whl (2.6 MB)\n",
      "Using cached pyparsing-3.2.0-py3-none-any.whl (106 kB)\n",
      "Using cached pytz-2024.2-py2.py3-none-any.whl (508 kB)\n",
      "Using cached scipy-1.14.1-cp311-cp311-win_amd64.whl (44.8 MB)\n",
      "Using cached threadpoolctl-3.5.0-py3-none-any.whl (18 kB)\n",
      "Using cached tzdata-2024.2-py2.py3-none-any.whl (346 kB)\n",
      "Installing collected packages: pytz, tzdata, threadpoolctl, pyparsing, pillow, numpy, kiwisolver, joblib, fonttools, cycler, scipy, pandas, contourpy, scikit-learn, matplotlib\n",
      "Successfully installed contourpy-1.3.0 cycler-0.12.1 fonttools-4.54.1 joblib-1.4.2 kiwisolver-1.4.7 matplotlib-3.9.2 numpy-2.1.3 pandas-2.2.3 pillow-11.0.0 pyparsing-3.2.0 pytz-2024.2 scikit-learn-1.5.2 scipy-1.14.1 threadpoolctl-3.5.0 tzdata-2024.2\n",
      "Note: you may need to restart the kernel to use updated packages.\n"
     ]
    }
   ],
   "source": [
    "# Install required libraries\n",
    "%pip install pandas numpy scikit-learn matplotlib"
   ]
  },
  {
   "cell_type": "code",
   "execution_count": 3,
   "metadata": {},
   "outputs": [],
   "source": [
    "# Import Required Libraries\n",
    "import pandas as pd\n",
    "import numpy as np\n",
    "from sklearn.model_selection import train_test_split\n",
    "from sklearn.preprocessing import StandardScaler\n",
    "from sklearn.linear_model import LinearRegression\n",
    "from sklearn.metrics import mean_squared_error\n",
    "import matplotlib.pyplot as plt"
   ]
  },
  {
   "cell_type": "markdown",
   "metadata": {},
   "source": [
    "# Load Dataset\n",
    "Load the dataset from the 'train.tsv' file using pandas."
   ]
  },
  {
   "cell_type": "code",
   "execution_count": 4,
   "metadata": {},
   "outputs": [
    {
     "data": {
      "text/html": [
       "<div>\n",
       "<style scoped>\n",
       "    .dataframe tbody tr th:only-of-type {\n",
       "        vertical-align: middle;\n",
       "    }\n",
       "\n",
       "    .dataframe tbody tr th {\n",
       "        vertical-align: top;\n",
       "    }\n",
       "\n",
       "    .dataframe thead th {\n",
       "        text-align: right;\n",
       "    }\n",
       "</style>\n",
       "<table border=\"1\" class=\"dataframe\">\n",
       "  <thead>\n",
       "    <tr style=\"text-align: right;\">\n",
       "      <th></th>\n",
       "      <th>id</th>\n",
       "      <th>X</th>\n",
       "      <th>Y</th>\n",
       "      <th>month</th>\n",
       "      <th>day</th>\n",
       "      <th>FFMC</th>\n",
       "      <th>DMC</th>\n",
       "      <th>DC</th>\n",
       "      <th>ISI</th>\n",
       "      <th>temp</th>\n",
       "      <th>RH</th>\n",
       "      <th>wind</th>\n",
       "      <th>rain</th>\n",
       "      <th>area</th>\n",
       "    </tr>\n",
       "  </thead>\n",
       "  <tbody>\n",
       "    <tr>\n",
       "      <th>0</th>\n",
       "      <td>0</td>\n",
       "      <td>2</td>\n",
       "      <td>4</td>\n",
       "      <td>sep</td>\n",
       "      <td>sun</td>\n",
       "      <td>92.4</td>\n",
       "      <td>105.8</td>\n",
       "      <td>758.1</td>\n",
       "      <td>9.9</td>\n",
       "      <td>16.0</td>\n",
       "      <td>45</td>\n",
       "      <td>1.8</td>\n",
       "      <td>0.0</td>\n",
       "      <td>0.00</td>\n",
       "    </tr>\n",
       "    <tr>\n",
       "      <th>1</th>\n",
       "      <td>3</td>\n",
       "      <td>7</td>\n",
       "      <td>4</td>\n",
       "      <td>aug</td>\n",
       "      <td>sun</td>\n",
       "      <td>91.6</td>\n",
       "      <td>181.3</td>\n",
       "      <td>613.0</td>\n",
       "      <td>7.6</td>\n",
       "      <td>19.3</td>\n",
       "      <td>61</td>\n",
       "      <td>4.9</td>\n",
       "      <td>0.0</td>\n",
       "      <td>0.00</td>\n",
       "    </tr>\n",
       "    <tr>\n",
       "      <th>2</th>\n",
       "      <td>9</td>\n",
       "      <td>7</td>\n",
       "      <td>4</td>\n",
       "      <td>sep</td>\n",
       "      <td>fri</td>\n",
       "      <td>92.1</td>\n",
       "      <td>99.0</td>\n",
       "      <td>745.3</td>\n",
       "      <td>9.6</td>\n",
       "      <td>19.8</td>\n",
       "      <td>47</td>\n",
       "      <td>2.7</td>\n",
       "      <td>0.0</td>\n",
       "      <td>1.72</td>\n",
       "    </tr>\n",
       "    <tr>\n",
       "      <th>3</th>\n",
       "      <td>11</td>\n",
       "      <td>7</td>\n",
       "      <td>4</td>\n",
       "      <td>aug</td>\n",
       "      <td>fri</td>\n",
       "      <td>94.8</td>\n",
       "      <td>227.0</td>\n",
       "      <td>706.7</td>\n",
       "      <td>12.0</td>\n",
       "      <td>23.3</td>\n",
       "      <td>34</td>\n",
       "      <td>3.1</td>\n",
       "      <td>0.0</td>\n",
       "      <td>0.00</td>\n",
       "    </tr>\n",
       "    <tr>\n",
       "      <th>4</th>\n",
       "      <td>13</td>\n",
       "      <td>4</td>\n",
       "      <td>3</td>\n",
       "      <td>sep</td>\n",
       "      <td>mon</td>\n",
       "      <td>91.6</td>\n",
       "      <td>108.4</td>\n",
       "      <td>764.0</td>\n",
       "      <td>6.2</td>\n",
       "      <td>9.8</td>\n",
       "      <td>86</td>\n",
       "      <td>1.8</td>\n",
       "      <td>0.0</td>\n",
       "      <td>0.00</td>\n",
       "    </tr>\n",
       "  </tbody>\n",
       "</table>\n",
       "</div>"
      ],
      "text/plain": [
       "   id  X  Y month  day  FFMC    DMC     DC   ISI  temp  RH  wind  rain  area\n",
       "0   0  2  4   sep  sun  92.4  105.8  758.1   9.9  16.0  45   1.8   0.0  0.00\n",
       "1   3  7  4   aug  sun  91.6  181.3  613.0   7.6  19.3  61   4.9   0.0  0.00\n",
       "2   9  7  4   sep  fri  92.1   99.0  745.3   9.6  19.8  47   2.7   0.0  1.72\n",
       "3  11  7  4   aug  fri  94.8  227.0  706.7  12.0  23.3  34   3.1   0.0  0.00\n",
       "4  13  4  3   sep  mon  91.6  108.4  764.0   6.2   9.8  86   1.8   0.0  0.00"
      ]
     },
     "execution_count": 4,
     "metadata": {},
     "output_type": "execute_result"
    }
   ],
   "source": [
    "# Load Dataset\n",
    "df = pd.read_csv('train.tsv', sep='\\t')\n",
    "\n",
    "# Display the first few rows of the dataframe\n",
    "df.head()"
   ]
  },
  {
   "cell_type": "markdown",
   "metadata": {},
   "source": [
    "# Data Preprocessing\n",
    "Handle missing values, encode categorical variables, and normalize/scale the data if necessary."
   ]
  },
  {
   "cell_type": "code",
   "execution_count": 5,
   "metadata": {},
   "outputs": [],
   "source": [
    "# Data Preprocessing\n",
    "\n",
    "# Handle missing values\n",
    "df = df.dropna()\n",
    "\n",
    "# Encode categorical variables\n",
    "df = pd.get_dummies(df, columns=['month', 'day'], drop_first=True)\n",
    "\n",
    "# Separate features and target variable\n",
    "X = df.drop(columns=['id', 'area'])\n",
    "y = df['area']\n",
    "\n",
    "# Normalize/scale the data\n",
    "scaler = StandardScaler()\n",
    "X_scaled = scaler.fit_transform(X)\n",
    "\n",
    "# Split the data into training and testing sets\n",
    "X_train, X_test, y_train, y_test = train_test_split(X_scaled, y, test_size=0.2, random_state=42)"
   ]
  },
  {
   "cell_type": "markdown",
   "metadata": {},
   "source": [
    "# Feature Selection\n",
    "Select all features except 'area' and 'id' for the prediction."
   ]
  },
  {
   "cell_type": "code",
   "execution_count": 6,
   "metadata": {},
   "outputs": [
    {
     "data": {
      "text/plain": [
       "['X',\n",
       " 'Y',\n",
       " 'FFMC',\n",
       " 'DMC',\n",
       " 'DC',\n",
       " 'ISI',\n",
       " 'temp',\n",
       " 'RH',\n",
       " 'wind',\n",
       " 'rain',\n",
       " 'month_aug',\n",
       " 'month_dec',\n",
       " 'month_feb',\n",
       " 'month_jan',\n",
       " 'month_jul',\n",
       " 'month_jun',\n",
       " 'month_mar',\n",
       " 'month_may',\n",
       " 'month_nov',\n",
       " 'month_oct',\n",
       " 'month_sep',\n",
       " 'day_mon',\n",
       " 'day_sat',\n",
       " 'day_sun',\n",
       " 'day_thu',\n",
       " 'day_tue',\n",
       " 'day_wed']"
      ]
     },
     "execution_count": 6,
     "metadata": {},
     "output_type": "execute_result"
    }
   ],
   "source": [
    "# Feature Selection\n",
    "\n",
    "# Select all features except 'area' and 'id' for the prediction\n",
    "features = df.drop(columns=['id', 'area']).columns.tolist()\n",
    "features"
   ]
  },
  {
   "cell_type": "markdown",
   "metadata": {},
   "source": [
    "# Train-Test Split\n",
    "Split the data into training and testing sets using scikit-learn's train_test_split function."
   ]
  },
  {
   "cell_type": "code",
   "execution_count": 7,
   "metadata": {},
   "outputs": [],
   "source": [
    "# Train-Test Split\n",
    "\n",
    "# Split the data into training and testing sets\n",
    "X_train, X_test, y_train, y_test = train_test_split(X_scaled, y, test_size=0.2, random_state=42)"
   ]
  },
  {
   "cell_type": "markdown",
   "metadata": {},
   "source": [
    "# Model Training\n",
    "Train a regression model (e.g., Linear Regression, Random Forest) using the training data."
   ]
  },
  {
   "cell_type": "code",
   "execution_count": 8,
   "metadata": {},
   "outputs": [
    {
     "name": "stdout",
     "output_type": "stream",
     "text": [
      "Mean Squared Error: 844.8809719189758\n"
     ]
    },
    {
     "data": {
      "image/png": "[encoded data removed]",
      "text/plain": [
       "<Figure size 640x480 with 1 Axes>"
      ]
     },
     "metadata": {},
     "output_type": "display_data"
    },
    {
     "name": "stdout",
     "output_type": "stream",
     "text": [
      "Mean Squared Error (Random Forest): 3674.585364077815\n"
     ]
    },
    {
     "data": {
      "image/png": "[encoded data removed]",
      "text/plain": [
       "<Figure size 640x480 with 1 Axes>"
      ]
     },
     "metadata": {},
     "output_type": "display_data"
    }
   ],
   "source": [
    "# Model Training\n",
    "\n",
    "# Train a Linear Regression model\n",
    "linear_regressor = LinearRegression()\n",
    "linear_regressor.fit(X_train, y_train)\n",
    "\n",
    "# Predict on the test set\n",
    "y_pred = linear_regressor.predict(X_test)\n",
    "\n",
    "# Calculate the Mean Squared Error\n",
    "mse = mean_squared_error(y_test, y_pred)\n",
    "print(f\"Mean Squared Error: {mse}\")\n",
    "\n",
    "# Plot the predicted vs actual values\n",
    "plt.scatter(y_test, y_pred)\n",
    "plt.xlabel(\"Actual Area\")\n",
    "plt.ylabel(\"Predicted Area\")\n",
    "plt.title(\"Actual vs Predicted Area\")\n",
    "plt.show()\n",
    "\n",
    "# Train a Random Forest Regressor model\n",
    "from sklearn.ensemble import RandomForestRegressor\n",
    "\n",
    "random_forest_regressor = RandomForestRegressor(n_estimators=100, random_state=42)\n",
    "random_forest_regressor.fit(X_train, y_train)\n",
    "\n",
    "# Predict on the test set\n",
    "y_pred_rf = random_forest_regressor.predict(X_test)\n",
    "\n",
    "# Calculate the Mean Squared Error\n",
    "mse_rf = mean_squared_error(y_test, y_pred_rf)\n",
    "print(f\"Mean Squared Error (Random Forest): {mse_rf}\")\n",
    "\n",
    "# Plot the predicted vs actual values for Random Forest\n",
    "plt.scatter(y_test, y_pred_rf)\n",
    "plt.xlabel(\"Actual Area\")\n",
    "plt.ylabel(\"Predicted Area\")\n",
    "plt.title(\"Actual vs Predicted Area (Random Forest)\")\n",
    "plt.show()"
   ]
  },
  {
   "cell_type": "markdown",
   "metadata": {},
   "source": [
    "# Model Evaluation\n",
    "Evaluate the model's performance using metrics such as Mean Absolute Error (MAE), Mean Squared Error (MSE), and R-squared."
   ]
  },
  {
   "cell_type": "code",
   "execution_count": 9,
   "metadata": {},
   "outputs": [
    {
     "name": "stdout",
     "output_type": "stream",
     "text": [
      "Linear Regression - Mean Absolute Error: 21.901193275881937\n",
      "Linear Regression - Mean Squared Error: 844.8809719189758\n",
      "Linear Regression - R-squared: -2.7662190347984885\n",
      "Random Forest Regressor - Mean Absolute Error: 22.42170615384615\n",
      "Random Forest Regressor - Mean Squared Error: 3674.585364077815\n",
      "Random Forest Regressor - R-squared: -15.38016928200981\n"
     ]
    }
   ],
   "source": [
    "# Model Evaluation\n",
    "\n",
    "from sklearn.metrics import mean_absolute_error, mean_squared_error, r2_score\n",
    "\n",
    "# Evaluate Linear Regression model\n",
    "mae_lr = mean_absolute_error(y_test, y_pred)\n",
    "mse_lr = mean_squared_error(y_test, y_pred)\n",
    "r2_lr = r2_score(y_test, y_pred)\n",
    "\n",
    "print(f\"Linear Regression - Mean Absolute Error: {mae_lr}\")\n",
    "print(f\"Linear Regression - Mean Squared Error: {mse_lr}\")\n",
    "print(f\"Linear Regression - R-squared: {r2_lr}\")\n",
    "\n",
    "# Evaluate Random Forest Regressor model\n",
    "mae_rf = mean_absolute_error(y_test, y_pred_rf)\n",
    "mse_rf = mean_squared_error(y_test, y_pred_rf)\n",
    "r2_rf = r2_score(y_test, y_pred_rf)\n",
    "\n",
    "print(f\"Random Forest Regressor - Mean Absolute Error: {mae_rf}\")\n",
    "print(f\"Random Forest Regressor - Mean Squared Error: {mse_rf}\")\n",
    "print(f\"Random Forest Regressor - R-squared: {r2_rf}\")"
   ]
  },
  {
   "cell_type": "markdown",
   "metadata": {},
   "source": [
    "# Prediction\n",
    "Use the trained model to make predictions on the test data and compare the predicted values with the actual values."
   ]
  },
  {
   "cell_type": "code",
   "execution_count": 10,
   "metadata": {},
   "outputs": [
    {
     "data": {
      "image/png": "[encoded data removed]",
      "text/plain": [
       "<Figure size 1000x600 with 1 Axes>"
      ]
     },
     "metadata": {},
     "output_type": "display_data"
    }
   ],
   "source": [
    "# Prediction\n",
    "\n",
    "# Use the trained Random Forest model to make predictions on the test data\n",
    "y_pred_test = random_forest_regressor.predict(X_test)\n",
    "\n",
    "# Compare the predicted values with the actual values\n",
    "comparison_df = pd.DataFrame({'Actual': y_test, 'Predicted': y_pred_test})\n",
    "\n",
    "# Display the first few rows of the comparison dataframe\n",
    "comparison_df.head()\n",
    "\n",
    "# Plot the predicted vs actual values\n",
    "plt.figure(figsize=(10, 6))\n",
    "plt.scatter(y_test, y_pred_test, alpha=0.6)\n",
    "plt.plot([y_test.min(), y_test.max()], [y_test.min(), y_test.max()], 'k--', lw=2)\n",
    "plt.xlabel(\"Actual Area\")\n",
    "plt.ylabel(\"Predicted Area\")\n",
    "plt.title(\"Actual vs Predicted Area (Test Data)\")\n",
    "plt.show()"
   ]
  },
  {
   "cell_type": "markdown",
   "metadata": {},
   "source": []
  },
  {
   "cell_type": "code",
   "execution_count": null,
   "metadata": {},
   "outputs": [],
   "source": []
  }
 ],
 "metadata": {
  "kernelspec": {
   "display_name": "Python 3",
   "language": "python",
   "name": "python3"
  },
  "language_info": {
   "codemirror_mode": {
    "name": "ipython",
    "version": 3
   },
   "file_extension": ".py",
   "mimetype": "text/x-python",
   "name": "python",
   "nbconvert_exporter": "python",
   "pygments_lexer": "ipython3",
   "version": "3.11.10"
  }
 },
 "nbformat": 4,
 "nbformat_minor": 2
}
